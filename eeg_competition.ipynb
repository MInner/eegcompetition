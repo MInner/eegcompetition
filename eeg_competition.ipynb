{
 "metadata": {
  "name": "",
  "signature": "sha256:dc63758794e84cccfed65abb06ab083063a33f09233731db3971b182eb36a038"
 },
 "nbformat": 3,
 "nbformat_minor": 0,
 "worksheets": [
  {
   "cells": [
    {
     "cell_type": "code",
     "collapsed": false,
     "input": [
      "import scipy.io\n",
      "import numpy as np\n",
      "\n",
      "def readdata(filename1, filename2):\n",
      "    data = scipy.io.loadmat(filename1)\n",
      "    raw_signal = data['raw_signal']\n",
      "    time_of_stimuli = data['time_of_stimuli']\n",
      "    X = np.array([raw_signal[time_start:time_start+350, :] for time_start in time_of_stimuli[0]])\n",
      "    X_train = X[:164, :, :]\n",
      "    X_test = X[164:, :, :]\n",
      "    Y = scipy.io.loadmat(filename2)['true_y1']\n",
      "    Y_train = Y[0][:164]\n",
      "    Y_test = Y[0][164:]\n",
      "    return X_train, Y_train, X_test, Y_test\n",
      "    \n",
      "X_train_T, y_train, X_test_T, y_test = readdata('/home/ben/tmp/eeg-contest/MLdata.mat', \n",
      "                                            '/home/ben/tmp/eeg-contest/ML_correct_labels.mat')\n",
      "\n",
      "print X_train_T.shape, y_train.shape, X_test_T.shape, y_test.shape"
     ],
     "language": "python",
     "metadata": {},
     "outputs": [
      {
       "output_type": "stream",
       "stream": "stdout",
       "text": [
        "(164, 350, 114) (164,) (106, 350, 114) (106,)\n"
       ]
      }
     ],
     "prompt_number": 62
    },
    {
     "cell_type": "code",
     "collapsed": false,
     "input": [
      "def extract_features(X_T, extractor_list):\n",
      "    \"\"\" \n",
      "    Turnes tensor \n",
      "        X_T(N_obj, t, Channel) -> (N_obj, N_vector)\n",
      "    where \n",
      "        N_vector = extractor1([Channel, t]) + extractor2([Channel, t])\n",
      "    where\n",
      "        each extractor __returns numpy array__ (always same sized)\n",
      "    \"\"\"\n",
      "    X_new = []\n",
      "    for x_i in range(X_T.shape[0]):\n",
      "        row_new = []\n",
      "        for extr in extractor_list:\n",
      "            row_new.append(extr(X_T[x_i, :, :].T))\n",
      "        X_new.append(np.hstack(row_new))\n",
      "        \n",
      "    return np.array(X_new)\n",
      "        \n",
      "def stdvalext(S):\n",
      "    \"\"\" \n",
      "    Standart deviation for each channel extractor\n",
      "    S in (114, 350) = (Ch, t)\n",
      "    ret in (114)\n",
      "    \"\"\"\n",
      "    return np.std(S, axis = 1)\n",
      "\n",
      "def rawext(S):\n",
      "    \"\"\" \n",
      "    Just raw vectorised data\n",
      "    S in (114, 350) = (Ch, t)\n",
      "    ret in (114*350)\n",
      "    \"\"\"\n",
      "    return S.reshape(114*350)\n",
      "\n",
      "extractor_list = [stdvalext, rawext]\n",
      "X_train_raw = extract_features(X_train_T, extractor_list)\n",
      "X_test_raw = extract_features(X_test_T, extractor_list)\n",
      "print X_train_raw.shape, X_test_raw.shape"
     ],
     "language": "python",
     "metadata": {},
     "outputs": [
      {
       "output_type": "stream",
       "stream": "stdout",
       "text": [
        "(164, 40014) (106, 40014)\n"
       ]
      }
     ],
     "prompt_number": 75
    },
    {
     "cell_type": "code",
     "collapsed": false,
     "input": [
      "import sklearn.feature_selection as sk_fs\n",
      "import sklearn.decomposition\n",
      "\n",
      "def select_features(X_train, y_train, X_test, y_test, n_chosen = None, n_pca = None):\n",
      "    if not n_chosen:\n",
      "        n_chosen = int(4*np.sqrt(X_train.shape[1]))\n",
      "\n",
      "    model = sk_fs.SelectKBest(sk_fs.f_classif, k=n_chosen)\n",
      "    model.fit(X_train, y_train)\n",
      "    X_train_ = model.transform(X_train)\n",
      "    X_test_ = model.transform(X_test)\n",
      "    \n",
      "    pca = sklearn.decomposition.PCA(n_components=n_chosen/4)\n",
      "    pca.fit(X_train_)\n",
      "    X_train__ = pca.transform(X_train_)\n",
      "    X_test__ = pca.transform(X_test_)\n",
      "    \n",
      "    return X_train__, X_test__\n",
      "\n",
      "X_train, X_test = select_features(X_train_raw, y_train, X_test_raw, y_test)\n",
      "\n",
      "print X_train.shape, X_test.shape"
     ],
     "language": "python",
     "metadata": {},
     "outputs": [
      {
       "output_type": "stream",
       "stream": "stdout",
       "text": [
        "(164, 164) (106, 164)\n"
       ]
      },
      {
       "output_type": "stream",
       "stream": "stderr",
       "text": [
        "/home/ben/.anaconda/lib/python2.7/site-packages/numpy/lib/utils.py:134: DeprecationWarning: `fprob` is deprecated!\n",
        "fprob is deprecated in scipy 0.14, use stats.f.sf or special.fdtrc instead\n",
        "\n",
        "  warnings.warn(depdoc, DeprecationWarning)\n"
       ]
      }
     ],
     "prompt_number": 79
    },
    {
     "cell_type": "code",
     "collapsed": false,
     "input": [
      "from sklearn.ensemble import ExtraTreesClassifier\n",
      "from sklearn.ensemble import GradientBoostingClassifier\n",
      "from sklearn.cross_validation import cross_val_score\n",
      "from sklearn.metrics import confusion_matrix\n",
      "\n",
      "def test_clf(clf):\n",
      "    print 'Cross-val score:', cross_val_score(clf, X_train, y_train).mean()\n",
      "    \n",
      "    clf.fit(X_train, y_train)\n",
      "    print 'Train error', clf.score(X_train, y_train)\n",
      "    print 'Test error', clf.score(X_test, y_test)\n",
      "    y_test_pred = clf.predict(X_test)\n",
      "    print 'Test confusion matrix is:'\n",
      "    print confusion_matrix(y_test, y_test_pred)\n",
      "\n",
      "def run():\n",
      "    clfs = {\n",
      "        'Extra tree default': ExtraTreesClassifier(max_depth=None, min_samples_split=1, random_state=0), \n",
      "        'GradientBoostingClassifier': GradientBoostingClassifier() }\n",
      "\n",
      "    for clf in clfs:\n",
      "        print clf\n",
      "        test_clf(clf)\n",
      "        \n",
      "run()"
     ],
     "language": "python",
     "metadata": {},
     "outputs": [
      {
       "output_type": "stream",
       "stream": "stdout",
       "text": [
        "Cross-val score: "
       ]
      },
      {
       "output_type": "stream",
       "stream": "stdout",
       "text": [
        "0.506060606061\n",
        "Train error 1.0\n",
        "Test error 0.462264150943\n",
        "Test confusion matrix is:\n",
        "[[31 25]\n",
        " [32 18]]\n",
        "Cross-val score: "
       ]
      },
      {
       "output_type": "stream",
       "stream": "stdout",
       "text": [
        "0.445005611672\n",
        "Train error"
       ]
      },
      {
       "output_type": "stream",
       "stream": "stdout",
       "text": [
        " 1.0\n",
        "Test error 0.5\n",
        "Test confusion matrix is:\n",
        "[[20 36]\n",
        " [17 33]]\n"
       ]
      }
     ],
     "prompt_number": 94
    }
   ],
   "metadata": {}
  }
 ]
}