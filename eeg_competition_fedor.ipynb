{
 "metadata": {
  "name": "",
  "signature": "sha256:8a773702a68ffc1730e8bc9acf7cce173a487cdcbc4c7a0c3b420352563fc145"
 },
 "nbformat": 3,
 "nbformat_minor": 0,
 "worksheets": [
  {
   "cells": [
    {
     "cell_type": "code",
     "collapsed": false,
     "input": [
      "import scipy.io\n",
      "import numpy as np\n",
      "\n",
      "def readdata(filename1, filename2):\n",
      "    data = scipy.io.loadmat(filename1)\n",
      "    raw_signal = data['raw_signal']\n",
      "    time_of_stimuli = data['time_of_stimuli']\n",
      "    X = np.array([raw_signal[time_start:time_start+350, :] for time_start in time_of_stimuli[0]])\n",
      "    X_train = X[:164, :, :]\n",
      "    X_test = X[164:, :, :]\n",
      "    Y = scipy.io.loadmat(filename2)['true_y1']\n",
      "    Y_train = Y[0][:164]\n",
      "    Y_test = Y[0][164:]\n",
      "    return X_train, Y_train, X_test, Y_test\n",
      "    \n",
      "X_train_T, y_train, X_test_T, y_test = readdata('MLdata.mat', 'ML_correct_labels.mat')\n",
      "\n",
      "print X_train_T.shape, y_train.shape, X_test_T.shape, y_test.shape"
     ],
     "language": "python",
     "metadata": {},
     "outputs": [
      {
       "output_type": "stream",
       "stream": "stdout",
       "text": [
        "(164, 350, 114) (164,) (106, 350, 114) (106,)\n"
       ]
      }
     ],
     "prompt_number": 1
    },
    {
     "cell_type": "code",
     "collapsed": false,
     "input": [
      "def extract_features(X_T, extractor_list):\n",
      "    \"\"\" \n",
      "    Turnes tensor \n",
      "        X_T(N_obj, t, Channel) -> (N_obj, N_vector)\n",
      "    where \n",
      "        N_vector = extractor1([Channel, t]) + extractor2([Channel, t])\n",
      "    where\n",
      "        each extractor __returns numpy array__ (always same sized)\n",
      "    \"\"\"\n",
      "    X_new = []\n",
      "    for x_i in range(X_T.shape[0]):\n",
      "        row_new = []\n",
      "        for extr in extractor_list:\n",
      "            row_new.append(extr(X_T[x_i, :, :].T))\n",
      "        X_new.append(np.ravel(row_new))\n",
      "        \n",
      "    return np.array(X_new)\n",
      "        \n",
      "def stdvalext(S):\n",
      "    \"\"\" \n",
      "    Standart deviation for each channel extractor\n",
      "    S in (114, 350) = (Ch, t)\n",
      "    ret in (114)\n",
      "    \"\"\"\n",
      "    return np.std(S, axis = 1)\n",
      "\n",
      "extractor_list = [stdvalext]\n",
      "X_train = extract_features(X_train_T, extractor_list)\n",
      "print X_train_.shape"
     ],
     "language": "python",
     "metadata": {},
     "outputs": [
      {
       "output_type": "stream",
       "stream": "stdout",
       "text": [
        "(164, 114)\n"
       ]
      }
     ],
     "prompt_number": 24
    },
    {
     "cell_type": "code",
     "collapsed": false,
     "input": [
      "import sklearn.feature_selection as sk_fs\n",
      "\n",
      "def select_features(X_train, y_train, X_test, y_test):\n",
      "    model = sk_fs.SelectKBest(sk_fs.chi2, k=100)\n",
      "    model.fit(X_train, y_train)\n",
      "    model.tra\n",
      "    return \n"
     ],
     "language": "python",
     "metadata": {},
     "outputs": [
      {
       "metadata": {},
       "output_type": "pyout",
       "prompt_number": 19,
       "text": [
        "(array([   1.8854324 ,  104.17091206,    7.83908792,    7.62818834,\n",
        "           3.08648849,    8.9718156 ,   35.43786711,   25.32317983,\n",
        "           6.87259177,   48.4850629 ,   74.49340033,   52.20653577,\n",
        "           8.8966526 ,   29.46087973,   31.59309312,   65.60367569,\n",
        "          70.54322342,   68.06295292,   46.85927322,   39.2910735 ,\n",
        "          39.46525875,    4.33946874,   32.64936758,   53.12117706,\n",
        "          36.52169999,   77.88955873,   93.68855078,   36.71074092,\n",
        "          35.42423091,   40.18826535,   32.89607146,   41.52076138,\n",
        "          64.64587166,   68.58019846,   81.71588388,   89.65008825,\n",
        "          75.37853765,   66.51762321,   67.57676912,   57.80505643,\n",
        "          35.74597396,   65.71030324,   84.60354004,   68.62401899,\n",
        "          93.39178874,  119.20276376,   77.11319915,   82.83655521,\n",
        "          66.20661559,   52.67606532,   89.15624241,   98.97109416,\n",
        "         116.16137805,  109.57545996,  102.68913138,   80.61395332,\n",
        "          85.53376967,   55.83311574,   92.26499   ,  117.50176006,\n",
        "         124.38678099,  144.56063853,  104.66517471,   73.06520193,\n",
        "          82.14266064,   83.86617873,   96.52942407,  133.33250956,\n",
        "         121.02046521,  142.05481826,  120.2945831 ,  127.87004932,\n",
        "          89.2843652 ,   96.49321382,   92.31647817,  117.07197906,\n",
        "          67.92133018,  118.09062161,  157.14842455,  145.2288887 ,\n",
        "         116.3424739 ,   91.4021264 ,  105.24190986,  101.75022354,\n",
        "         115.92804828,  115.23360848,  131.87774555,  137.38937813,\n",
        "         137.14663642,  128.63145621,  122.91759471,   84.88218116,\n",
        "         121.50308218,  111.31979576,  117.75072875,   97.57388277,\n",
        "         138.59290189,  167.98263519,  141.66902546,  128.7651313 ,\n",
        "         121.60977192,  105.09022093,  114.58272246,  144.8658256 ,\n",
        "         122.56770892,  164.61518672,  147.75759541,  130.14392546,\n",
        "         136.9036681 ,  163.53830809,   76.32455785,  181.2482231 ,\n",
        "         147.39371356,  170.12053527]),\n",
        " array([  1.69718002e-01,   1.85595416e-24,   5.11283973e-03,\n",
        "          5.74629942e-03,   7.89450024e-02,   2.74176010e-03,\n",
        "          2.63317513e-09,   4.84847076e-07,   8.75276222e-03,\n",
        "          3.32814224e-12,   6.08413224e-18,   4.99595783e-13,\n",
        "          2.85693915e-03,   5.70568372e-08,   1.90104535e-08,\n",
        "          5.51358343e-16,   4.50291698e-17,   1.58358148e-16,\n",
        "          7.62713473e-12,   3.65106657e-10,   3.33948049e-10,\n",
        "          3.72385412e-02,   1.10375324e-08,   3.13593307e-13,\n",
        "          1.50976081e-09,   1.08965860e-18,   3.69290905e-22,\n",
        "          1.37022401e-09,   2.65167454e-09,   2.30629439e-10,\n",
        "          9.72195308e-09,   1.16625767e-10,   8.96439205e-16,\n",
        "          1.21821217e-16,   1.57125603e-19,   2.84236111e-21,\n",
        "          3.88591105e-18,   3.46779361e-16,   2.02641186e-16,\n",
        "          2.89424781e-14,   2.24796042e-09,   5.22320929e-16,\n",
        "          3.64611806e-20,   1.19144088e-16,   4.29026961e-22,\n",
        "          9.45530917e-28,   1.61434827e-18,   8.91264036e-20,\n",
        "          4.06047436e-16,   3.93355674e-13,   3.64830008e-21,\n",
        "          2.56214341e-23,   4.38152163e-27,   1.21394155e-25,\n",
        "          3.92089654e-24,   2.74414928e-19,   2.27778220e-20,\n",
        "          7.88913826e-14,   7.58137094e-22,   2.22902185e-27,\n",
        "          6.93238542e-29,   2.67927476e-33,   1.44620684e-24,\n",
        "          1.25436715e-17,   1.26610139e-19,   5.29425525e-20,\n",
        "          8.79273484e-23,   7.64693070e-31,   3.78210173e-28,\n",
        "          9.46008461e-33,   5.45308251e-28,   1.19838078e-29,\n",
        "          3.41950970e-21,   8.95502489e-23,   7.38666802e-22,\n",
        "          2.76836129e-27,   1.70150521e-16,   1.65644431e-27,\n",
        "          4.75025894e-36,   1.91390538e-33,   3.99915107e-27,\n",
        "          1.17250397e-21,   1.08099188e-24,   6.29830867e-24,\n",
        "          4.92857388e-27,   6.99519752e-27,   1.59122930e-30,\n",
        "          9.91136782e-32,   1.12001253e-31,   8.16559086e-30,\n",
        "          1.45362504e-28,   3.16684286e-20,   2.96540301e-28,\n",
        "          5.03558566e-26,   1.96607169e-27,   5.18837750e-23,\n",
        "          5.40660099e-32,   2.04077039e-38,   1.14881831e-32,\n",
        "          7.63375594e-30,   2.81014523e-28,   1.16699442e-24,\n",
        "          9.71286974e-27,   2.29770833e-33,   1.73395740e-28,\n",
        "          1.11012574e-37,   5.35944589e-34,   3.81117189e-30,\n",
        "          1.26579215e-31,   1.90819050e-37,   2.40672239e-18,\n",
        "          2.58754352e-41,   6.43671435e-34,   6.96370613e-39]))"
       ]
      }
     ],
     "prompt_number": 19
    },
    {
     "cell_type": "code",
     "collapsed": false,
     "input": [
      "from scipy.signal import welch\n",
      "\n",
      "def mu_power(x):\n",
      "    \n",
      "    # returns average power in mu-band [7.5,12.5] Hz given 1-D time series\n",
      "    \n",
      "    spectrum = welch(x,fs=100)\n",
      "    return np.mean(spectrum[1][np.logical_and(spectrum[0]>7.5,spectrum[0]<12.5)])\n",
      "\n",
      "def mu_power_vector(sample):\n",
      "    \n",
      "    # returns vector of average power in mu-band for each channel given 2-D sample\n",
      "    \n",
      "    mu_power_vector =  np.array([mu_power(sample[i]) for i in range(np.shape(sample)[0])])\n",
      "    return mu_power_vector"
     ],
     "language": "python",
     "metadata": {},
     "outputs": [],
     "prompt_number": 156
    },
    {
     "cell_type": "code",
     "collapsed": false,
     "input": [],
     "language": "python",
     "metadata": {},
     "outputs": []
    }
   ],
   "metadata": {}
  }
 ]
}