{
 "metadata": {
  "name": "",
  "signature": "sha256:6480af17f0026d3ac386fab9ab8815edb8f9e3cd714b6eb925823d453b4a7ef3"
 },
 "nbformat": 3,
 "nbformat_minor": 0,
 "worksheets": [
  {
   "cells": [
    {
     "cell_type": "code",
     "collapsed": false,
     "input": [
      "import scipy.io\n",
      "import numpy as np\n",
      "\n",
      "def readdata(filename1, filename2):\n",
      "    data = scipy.io.loadmat(filename1)\n",
      "    raw_signal = data['raw_signal']\n",
      "    time_of_stimuli = data['time_of_stimuli']\n",
      "    X = np.array([raw_signal[time_start:time_start+350, :] for time_start in time_of_stimuli[0]])\n",
      "    X_train = X[:164, :, :]\n",
      "    X_test = X[164:, :, :]\n",
      "    Y = scipy.io.loadmat(filename2)['true_y1']\n",
      "    Y_train = Y[0][:164]\n",
      "    Y_test = Y[0][164:]\n",
      "    return X_train, Y_train, X_test, Y_test\n",
      "    \n",
      "X_train_T, y_train, X_test_T, y_test = readdata('MLdata.mat', \n",
      "                                            'ML_correct_labels.mat')\n",
      "\n",
      "print X_train_T.shape, y_train.shape, X_test_T.shape, y_test.shape"
     ],
     "language": "python",
     "metadata": {},
     "outputs": [
      {
       "output_type": "stream",
       "stream": "stdout",
       "text": [
        "(164, 350, 114) (164,) (106, 350, 114) (106,)\n"
       ]
      }
     ],
     "prompt_number": 3
    },
    {
     "cell_type": "code",
     "collapsed": false,
     "input": [
      "def extract_features(X_T, extractor_list):\n",
      "    \"\"\" \n",
      "    Turnes tensor \n",
      "        X_T(N_obj, t, Channel) -> (N_obj, N_vector)\n",
      "    where \n",
      "        N_vector = extractor1([Channel, t]) + extractor2([Channel, t])\n",
      "    where\n",
      "        each extractor __returns numpy array__ (always same sized)\n",
      "    \"\"\"\n",
      "    X_new = []\n",
      "    for x_i in range(X_T.shape[0]):\n",
      "        row_new = []\n",
      "        for extr in extractor_list:\n",
      "            row_new.append(extr(X_T[x_i, :, :].T))\n",
      "        X_new.append(np.hstack(row_new))\n",
      "        \n",
      "    return np.array(X_new)\n",
      "        \n",
      "def stdvalext(S):\n",
      "    \"\"\" \n",
      "    Standart deviation for each channel extractor\n",
      "    S in (114, 350) = (Ch, t)\n",
      "    ret in (114)\n",
      "    \"\"\"\n",
      "    return np.std(S, axis = 1)\n",
      "\n",
      "def rawext(S):\n",
      "    \"\"\" \n",
      "    Just raw vectorised data\n",
      "    S in (114, 350) = (Ch, t)\n",
      "    ret in (114*350)\n",
      "    \"\"\"\n",
      "    return S.reshape(114*350)\n",
      "\n",
      "extractor_list = [stdvalext, rawext, bands_power_vector]\n",
      "#extractor_list = [bands_power_vector]\n",
      "X_train_raw = extract_features(X_train_T, extractor_list)\n",
      "X_test_raw = extract_features(X_test_T, extractor_list)\n",
      "print X_train_raw.shape, X_test_raw.shape"
     ],
     "language": "python",
     "metadata": {},
     "outputs": [
      {
       "output_type": "stream",
       "stream": "stdout",
       "text": [
        "(164, 41952) (106, 41952)\n"
       ]
      }
     ],
     "prompt_number": 73
    },
    {
     "cell_type": "code",
     "collapsed": false,
     "input": [
      "import sklearn.feature_selection as sk_fs\n",
      "import sklearn.decomposition\n",
      "\n",
      "def select_features(X_train, y_train, X_test, y_test, n_chosen = None, n_pca = None):\n",
      "    if not n_chosen:\n",
      "        n_chosen = int(4*np.sqrt(X_train.shape[1]))\n",
      "\n",
      "    model = sk_fs.SelectKBest(sk_fs.f_classif, k=n_chosen)\n",
      "    model.fit(X_train, y_train)\n",
      "    X_train_ = model.transform(X_train)\n",
      "    X_test_ = model.transform(X_test)\n",
      "    \n",
      "    pca = sklearn.decomposition.PCA(n_components=n_chosen/4)\n",
      "    pca.fit(X_train_)\n",
      "    X_train__ = pca.transform(X_train_)\n",
      "    X_test__ = pca.transform(X_test_)\n",
      "    \n",
      "    return X_train__, X_test__\n",
      "\n",
      "X_train, X_test = select_features(X_train_raw, y_train, X_test_raw, y_test)\n",
      "\n",
      "print X_train.shape, X_test.shape"
     ],
     "language": "python",
     "metadata": {},
     "outputs": [
      {
       "output_type": "stream",
       "stream": "stdout",
       "text": [
        "(164, 164) (106, 164)\n"
       ]
      }
     ],
     "prompt_number": 77
    },
    {
     "cell_type": "code",
     "collapsed": false,
     "input": [
      "from sklearn.ensemble import ExtraTreesClassifier\n",
      "from sklearn.ensemble import GradientBoostingClassifier\n",
      "from sklearn.cross_validation import cross_val_score\n",
      "from sklearn.metrics import confusion_matrix\n",
      "\n",
      "def test_clf(clf):\n",
      "    print 'Cross-val score:', cross_val_score(clf, X_train, y_train).mean()\n",
      "    \n",
      "    clf.fit(X_train, y_train)\n",
      "    print 'Train score', clf.score(X_train, y_train)\n",
      "    print 'Test score', clf.score(X_test, y_test)\n",
      "    y_test_pred = clf.predict(X_test)\n",
      "    print 'Test confusion matrix is:'\n",
      "    print confusion_matrix(y_test, y_test_pred)\n",
      "\n",
      "def run():\n",
      "#    clfs = {\n",
      "#        'Extra tree default': ExtraTreesClassifier(max_depth=None, min_samples_split=1, random_state=0), \n",
      "#        'GradientBoostingClassifier': GradientBoostingClassifier() }\n",
      "\n",
      "    clfs = {\n",
      "        ExtraTreesClassifier(max_depth=None, min_samples_split=1, random_state=0), \n",
      "        GradientBoostingClassifier() }\n",
      "\n",
      "    for clf in clfs:\n",
      "        print clf\n",
      "        test_clf(clf)\n",
      "        \n",
      "run()"
     ],
     "language": "python",
     "metadata": {},
     "outputs": [
      {
       "output_type": "stream",
       "stream": "stdout",
       "text": [
        "GradientBoostingClassifier(init=None, learning_rate=0.1, loss='deviance',\n",
        "              max_depth=3, max_features=None, max_leaf_nodes=None,\n",
        "              min_samples_leaf=1, min_samples_split=2, n_estimators=100,\n",
        "              random_state=None, subsample=1.0, verbose=0,\n",
        "              warm_start=False)\n",
        "Cross-val score: "
       ]
      },
      {
       "output_type": "stream",
       "stream": "stdout",
       "text": [
        "0.597643097643\n",
        "Train score"
       ]
      },
      {
       "output_type": "stream",
       "stream": "stdout",
       "text": [
        " 1.0\n",
        "Test score 0.622641509434\n",
        "Test confusion matrix is:\n",
        "[[39 17]\n",
        " [23 27]]\n",
        "ExtraTreesClassifier(bootstrap=False, compute_importances=None,\n",
        "           criterion='gini', max_depth=None, max_features='auto',\n",
        "           max_leaf_nodes=None, min_density=None, min_samples_leaf=1,\n",
        "           min_samples_split=1, n_estimators=10, n_jobs=1, oob_score=False,\n",
        "           random_state=0, verbose=0)\n",
        "Cross-val score: 0.542648709315\n",
        "Train score 1.0\n",
        "Test score "
       ]
      },
      {
       "output_type": "stream",
       "stream": "stdout",
       "text": [
        "0.547169811321\n",
        "Test confusion matrix is:\n",
        "[[38 18]\n",
        " [30 20]]\n"
       ]
      }
     ],
     "prompt_number": 75
    },
    {
     "cell_type": "code",
     "collapsed": false,
     "input": [
      "from scipy.signal import welch\n",
      "\n",
      "def band_power(x,band):\n",
      "    \n",
      "    # returns average power in mu-band [7.5,12.5] Hz given 1-D time series\n",
      "    min_f = band[0]\n",
      "    max_f = band[1]\n",
      "    spectrum = welch(x,fs=100)\n",
      "    if np.isnan(np.mean(spectrum[1][np.logical_and(spectrum[0]>min_f,spectrum[0]<max_f)])): print 'nan detected'\n",
      "    return np.mean(spectrum[1][np.logical_and(spectrum[0]>min_f,spectrum[0]<max_f)])\n",
      "\n",
      "def mu_power_vector(sample):\n",
      "    \n",
      "    # returns vector of average power in mu-band for each channel given 2-D sample\n",
      "    \n",
      "    mu_power = lambda x: band_power(x, [7.5,12.5])\n",
      "    mu_power_vector =  np.array([mu_power(sample[i]) for i in range(np.shape(sample)[0])])\n",
      "    return mu_power_vector\n",
      "\n",
      "def bands_power_vector(sample):\n",
      "    \n",
      "    # returns vector of length (#bands x #channels) of average power\n",
      "    \n",
      "    df = 2 # band width in Hz\n",
      "    min_f = 6\n",
      "    max_f = 40\n",
      "    num_bands = (max_f - min_f)/df\n",
      "    num_channels = np.shape(sample)[0]\n",
      "    \n",
      "    bands_power_vector = np.zeros((num_bands,num_channels))\n",
      "    \n",
      "    for band in range(num_bands):\n",
      "        \n",
      "        i_power = lambda x: band_power(x, [df*band,df*(band+1)])\n",
      "        bands_power_vector[band][:] = np.array([i_power(sample[i]) for i in range(np.shape(sample)[0])])\n",
      "        \n",
      "    return bands_power_vector.reshape((-1))\n",
      "    "
     ],
     "language": "python",
     "metadata": {},
     "outputs": [],
     "prompt_number": 67
    },
    {
     "cell_type": "code",
     "collapsed": false,
     "input": [
      "print np.shape(bands_power_vector(X_train_T[0].T))\n",
      "bands_power_vector(X_train_T[0].T)"
     ],
     "language": "python",
     "metadata": {},
     "outputs": [
      {
       "output_type": "stream",
       "stream": "stdout",
       "text": [
        "(1938,)\n"
       ]
      },
      {
       "metadata": {},
       "output_type": "pyout",
       "prompt_number": 68,
       "text": [
        "array([  1.68855820e+04,   3.91582500e+04,   1.60341348e+04, ...,\n",
        "         3.84121323e+01,   3.63519211e+01,   3.29619865e+01])"
       ]
      }
     ],
     "prompt_number": 68
    },
    {
     "cell_type": "code",
     "collapsed": false,
     "input": [
      "np.array([1,2,3,4])"
     ],
     "language": "python",
     "metadata": {},
     "outputs": [
      {
       "metadata": {},
       "output_type": "pyout",
       "prompt_number": 49,
       "text": [
        "array([1, 2, 3, 4])"
       ]
      }
     ],
     "prompt_number": 49
    },
    {
     "cell_type": "code",
     "collapsed": false,
     "input": [
      "np.shape(range(10))"
     ],
     "language": "python",
     "metadata": {},
     "outputs": [
      {
       "metadata": {},
       "output_type": "pyout",
       "prompt_number": 51,
       "text": [
        "(10,)"
       ]
      }
     ],
     "prompt_number": 51
    },
    {
     "cell_type": "code",
     "collapsed": false,
     "input": [],
     "language": "python",
     "metadata": {},
     "outputs": []
    }
   ],
   "metadata": {}
  }
 ]
}